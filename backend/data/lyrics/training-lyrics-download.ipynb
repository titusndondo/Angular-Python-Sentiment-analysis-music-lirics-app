{
 "cells": [
  {
   "cell_type": "code",
   "execution_count": 1,
   "metadata": {
    "ExecuteTime": {
     "end_time": "2021-01-02T02:23:03.807116Z",
     "start_time": "2021-01-02T02:23:03.790077Z"
    }
   },
   "outputs": [],
   "source": [
    "import pandas as pd\n",
    "import lyricsgenius\n",
    "import json\n",
    "import pickle"
   ]
  },
  {
   "cell_type": "code",
   "execution_count": 2,
   "metadata": {
    "ExecuteTime": {
     "end_time": "2021-01-02T01:02:16.317136Z",
     "start_time": "2021-01-02T01:02:16.304640Z"
    }
   },
   "outputs": [],
   "source": [
    "genius_client_access_token = 'fB4ldLe2jlKTIM7rNpHEFDozmXC-ipojy2wYZPS3rICuruFr7TH0Q9eED3CkewS8'"
   ]
  },
  {
   "cell_type": "code",
   "execution_count": 3,
   "metadata": {
    "ExecuteTime": {
     "end_time": "2021-01-02T01:02:16.453328Z",
     "start_time": "2021-01-02T01:02:16.372150Z"
    }
   },
   "outputs": [],
   "source": [
    "genius = lyricsgenius.Genius(genius_client_access_token)"
   ]
  },
  {
   "cell_type": "code",
   "execution_count": 4,
   "metadata": {
    "ExecuteTime": {
     "end_time": "2021-01-02T01:02:17.970383Z",
     "start_time": "2021-01-02T01:02:16.554751Z"
    }
   },
   "outputs": [
    {
     "output_type": "execute_result",
     "data": {
      "text/plain": [
       "       Index           Artist               Title     Mood\n",
       "0        ML1            Usher  There Goes My Baby  relaxed\n",
       "1        ML2         Da'Ville          On My Mind  relaxed\n",
       "2        ML3          Rihanna       Rockstar 101   relaxed\n",
       "3        ML4       J. Holiday                 Bed  relaxed\n",
       "4        ML5  Morgan Heritage   Don't Haffi Dread    angry\n",
       "...      ...              ...                 ...      ...\n",
       "2590  ML2591           Slayer    Fight Till Death    angry\n",
       "2591  ML2592          Anthrax    Among the Living    angry\n",
       "2592  ML2593            Opeth       Heir Apparent      sad\n",
       "2593  ML2594        Sepultura           Territory    angry\n",
       "2594  ML2595      Bing Crosby       Sweet Leilani  relaxed\n",
       "\n",
       "[2595 rows x 4 columns]"
      ],
      "text/html": "<div>\n<style scoped>\n    .dataframe tbody tr th:only-of-type {\n        vertical-align: middle;\n    }\n\n    .dataframe tbody tr th {\n        vertical-align: top;\n    }\n\n    .dataframe thead th {\n        text-align: right;\n    }\n</style>\n<table border=\"1\" class=\"dataframe\">\n  <thead>\n    <tr style=\"text-align: right;\">\n      <th></th>\n      <th>Index</th>\n      <th>Artist</th>\n      <th>Title</th>\n      <th>Mood</th>\n    </tr>\n  </thead>\n  <tbody>\n    <tr>\n      <th>0</th>\n      <td>ML1</td>\n      <td>Usher</td>\n      <td>There Goes My Baby</td>\n      <td>relaxed</td>\n    </tr>\n    <tr>\n      <th>1</th>\n      <td>ML2</td>\n      <td>Da'Ville</td>\n      <td>On My Mind</td>\n      <td>relaxed</td>\n    </tr>\n    <tr>\n      <th>2</th>\n      <td>ML3</td>\n      <td>Rihanna</td>\n      <td>Rockstar 101</td>\n      <td>relaxed</td>\n    </tr>\n    <tr>\n      <th>3</th>\n      <td>ML4</td>\n      <td>J. Holiday</td>\n      <td>Bed</td>\n      <td>relaxed</td>\n    </tr>\n    <tr>\n      <th>4</th>\n      <td>ML5</td>\n      <td>Morgan Heritage</td>\n      <td>Don't Haffi Dread</td>\n      <td>angry</td>\n    </tr>\n    <tr>\n      <th>...</th>\n      <td>...</td>\n      <td>...</td>\n      <td>...</td>\n      <td>...</td>\n    </tr>\n    <tr>\n      <th>2590</th>\n      <td>ML2591</td>\n      <td>Slayer</td>\n      <td>Fight Till Death</td>\n      <td>angry</td>\n    </tr>\n    <tr>\n      <th>2591</th>\n      <td>ML2592</td>\n      <td>Anthrax</td>\n      <td>Among the Living</td>\n      <td>angry</td>\n    </tr>\n    <tr>\n      <th>2592</th>\n      <td>ML2593</td>\n      <td>Opeth</td>\n      <td>Heir Apparent</td>\n      <td>sad</td>\n    </tr>\n    <tr>\n      <th>2593</th>\n      <td>ML2594</td>\n      <td>Sepultura</td>\n      <td>Territory</td>\n      <td>angry</td>\n    </tr>\n    <tr>\n      <th>2594</th>\n      <td>ML2595</td>\n      <td>Bing Crosby</td>\n      <td>Sweet Leilani</td>\n      <td>relaxed</td>\n    </tr>\n  </tbody>\n</table>\n<p>2595 rows × 4 columns</p>\n</div>"
     },
     "metadata": {},
     "execution_count": 4
    }
   ],
   "source": [
    "labels_df = pd.read_excel('../MoodyLyrics/ml_raw.xlsx')\n",
    "labels_df"
   ]
  },
  {
   "cell_type": "code",
   "execution_count": 5,
   "metadata": {
    "ExecuteTime": {
     "end_time": "2021-01-02T02:33:05.362613Z",
     "start_time": "2021-01-02T02:33:05.348622Z"
    }
   },
   "outputs": [],
   "source": [
    "lyrics_labelled_data = []"
   ]
  },
  {
   "cell_type": "code",
   "execution_count": 1,
   "metadata": {
    "ExecuteTime": {
     "end_time": "2021-01-02T02:33:05.761042Z",
     "start_time": "2021-01-02T02:33:05.741039Z"
    },
    "code_folding": [
     0
    ]
   },
   "outputs": [],
   "source": [
    "def getOtherArtists(response, key):\n",
    "    my_dict = {}\n",
    "    my_dict[key] = []\n",
    "    for artist in response:\n",
    "\n",
    "        my_dict[key] \\\n",
    "            .append( \n",
    "                {'name': artist['name'], \n",
    "                 'url': artist['url'], \n",
    "                 'img_url': artist['image_url']} \n",
    "            )"
   ]
  },
  {
   "cell_type": "code",
   "execution_count": 7,
   "metadata": {
    "ExecuteTime": {
     "end_time": "2021-01-02T02:33:06.530782Z",
     "start_time": "2021-01-02T02:33:06.503032Z"
    },
    "code_folding": [
     0
    ]
   },
   "outputs": [],
   "source": [
    "def makeRequest(artist_name, track_name, label = None):\n",
    "    \n",
    "    lyrics_match = genius.search_song(track_name, artist_name)\n",
    "    \n",
    "    my_dict = {}\n",
    "    my_dict['artist'] = artist_name\n",
    "    getOtherArtists(lyrics_match.featured_artists, 'featuring_artists')\n",
    "    getOtherArtists(lyrics_match.producer_artists, 'producer_artists')\n",
    "    getOtherArtists(lyrics_match.writer_artists, 'writer_artists')\n",
    "    song_info = lyrics_match.to_dict()\n",
    "    track_data = {\n",
    "        'title': song_info['title'], \n",
    "        'description': json.loads(lyrics_match.to_json())['description']['plain'],\n",
    "        'release_year': song_info['year'],\n",
    "        'album': song_info['album'], \n",
    "        'lyrics': song_info['lyrics'], \n",
    "        'img_url': song_info['image'], \n",
    "        'other_urls': lyrics_match.media,\n",
    "        'album_url': lyrics_match.album_url,\n",
    "        'mood': label\n",
    "     }\n",
    "    my_dict['track'] = track_data\n",
    "    return my_dict"
   ]
  },
  {
   "cell_type": "code",
   "execution_count": 8,
   "metadata": {
    "ExecuteTime": {
     "end_time": "2021-01-02T07:23:35.741637Z",
     "start_time": "2021-01-02T02:33:07.097407Z"
    }
   },
   "outputs": [],
   "source": [
    "# for i, (j, row) in enumerate(labels_df.iterrows()):\n",
    "#     try:\n",
    "#         artist_name = row['Artist']\n",
    "#         track_name = row['Title']\n",
    "#         label = row['Mood']\n",
    "#         print(i, artist_name, track_name)\n",
    "\n",
    "#         lyrics_labelled_data.append(makeRequest(artist_name, track_name, label))\n",
    "#     except Exception as e:\n",
    "#         print(e)\n",
    "# pickle.dump(lyrics_labelled_data, open('lyrics_labelled_data.pkl', 'wb'))"
   ]
  },
  {
   "cell_type": "code",
   "execution_count": 9,
   "metadata": {
    "ExecuteTime": {
     "end_time": "2021-01-02T09:31:49.515669Z",
     "start_time": "2021-01-02T09:31:49.493867Z"
    }
   },
   "outputs": [],
   "source": [
    "# len(lyrics_labelled_data)"
   ]
  }
 ],
 "metadata": {
  "kernelspec": {
   "display_name": "Python 3.6.10 64-bit",
   "language": "python",
   "name": "python361064bit01dda903eb0141e78eefa14f9c82f077"
  },
  "language_info": {
   "codemirror_mode": {
    "name": "ipython",
    "version": 3
   },
   "file_extension": ".py",
   "mimetype": "text/x-python",
   "name": "python",
   "nbconvert_exporter": "python",
   "pygments_lexer": "ipython3",
   "version": "3.6.10-final"
  },
  "toc": {
   "base_numbering": 1,
   "nav_menu": {},
   "number_sections": true,
   "sideBar": true,
   "skip_h1_title": false,
   "title_cell": "Table of Contents",
   "title_sidebar": "Contents",
   "toc_cell": false,
   "toc_position": {},
   "toc_section_display": true,
   "toc_window_display": false
  },
  "varInspector": {
   "cols": {
    "lenName": 16,
    "lenType": 16,
    "lenVar": 40
   },
   "kernels_config": {
    "python": {
     "delete_cmd_postfix": "",
     "delete_cmd_prefix": "del ",
     "library": "var_list.py",
     "varRefreshCmd": "print(var_dic_list())"
    },
    "r": {
     "delete_cmd_postfix": ") ",
     "delete_cmd_prefix": "rm(",
     "library": "var_list.r",
     "varRefreshCmd": "cat(var_dic_list()) "
    }
   },
   "types_to_exclude": [
    "module",
    "function",
    "builtin_function_or_method",
    "instance",
    "_Feature"
   ],
   "window_display": false
  }
 },
 "nbformat": 4,
 "nbformat_minor": 4
}