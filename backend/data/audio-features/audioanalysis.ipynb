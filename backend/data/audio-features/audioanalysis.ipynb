{
 "cells": [
  {
   "cell_type": "code",
   "execution_count": 194,
   "metadata": {
    "ExecuteTime": {
     "end_time": "2021-01-02T13:52:35.380371Z",
     "start_time": "2021-01-02T13:52:35.368368Z"
    }
   },
   "outputs": [],
   "source": [
    "import pandas as pd\n",
    "import requests\n",
    "import pickle\n",
    "\n",
    "import spotipy\n",
    "from spotipy.oauth2 import SpotifyClientCredentials"
   ]
  },
  {
   "cell_type": "code",
   "execution_count": 233,
   "metadata": {
    "ExecuteTime": {
     "end_time": "2021-01-02T13:52:35.859110Z",
     "start_time": "2021-01-02T13:52:35.851133Z"
    }
   },
   "outputs": [],
   "source": [
    "spotify_client_id = 'e0e51ec7feeb45b89b165ae1007c535d'\n",
    "spotify_client_secret = 'cf444557e7ad446ebd5c2d4cc6a781cf'\n",
    "\n",
    "client_credentials_manager = SpotifyClientCredentials(spotify_client_id, spotify_client_secret)\n",
    "sp = spotipy.Spotify(client_credentials_manager=client_credentials_manager)"
   ]
  },
  {
   "cell_type": "code",
   "execution_count": 234,
   "metadata": {},
   "outputs": [],
   "source": [
    "def dropDictKeys(dict, keys):\n",
    "    for key in keys:\n",
    "        try:\n",
    "            del dict[key]\n",
    "        except Exception as e:\n",
    "            pass\n",
    "    return dict\n",
    "\n",
    "def keepDictKeys(dict, keys):\n",
    "    new_dict = {}\n",
    "    if dict:\n",
    "        for key in keys:\n",
    "            new_dict[key] = dict[key]\n",
    "        return new_dict\n",
    "    return {}"
   ]
  },
  {
   "cell_type": "code",
   "execution_count": 247,
   "metadata": {},
   "outputs": [],
   "source": [
    "artist_lyrics = pickle.load(open('../collection/Jhené Aiko.pkl', 'rb'))"
   ]
  },
  {
   "cell_type": "code",
   "execution_count": 248,
   "metadata": {},
   "outputs": [
    {
     "output_type": "stream",
     "name": "stdout",
     "text": [
      "Wall time: 0 ns\n"
     ]
    },
    {
     "output_type": "execute_result",
     "data": {
      "text/plain": [
       "dict_keys(['header_image_url', 'id', 'image_url', 'is_verified', 'name', 'url', 'iq', 'albums'])"
      ]
     },
     "metadata": {},
     "execution_count": 248
    }
   ],
   "source": [
    "%time\n",
    "artist_lyrics.keys()"
   ]
  },
  {
   "cell_type": "code",
   "execution_count": 249,
   "metadata": {},
   "outputs": [
    {
     "output_type": "stream",
     "name": "stdout",
     "text": [
      "Wall time: 0 ns\n"
     ]
    },
    {
     "output_type": "execute_result",
     "data": {
      "text/plain": [
       "dict_keys(['number', '_type', 'full_title', 'header_image_thumbnail_url', 'header_image_url', 'id', 'lyrics_state', 'song_art_image_thumbnail_url', 'song_art_image_url', 'stats', 'title', 'title_with_featured', 'url', 'lyrics', 'description', 'embed_content', 'featured_video', 'recording_location', 'apple_music_id', 'apple_music_player_url', 'release_date', 'release_date_for_display', 'featured_artists', 'producer_artists', 'writer_artists', 'custom_performances', 'song_relationships'])"
      ]
     },
     "metadata": {},
     "execution_count": 249
    }
   ],
   "source": [
    "%time\n",
    "artist_lyrics['albums'][0]['tracks'][0].keys()"
   ]
  },
  {
   "cell_type": "code",
   "execution_count": 250,
   "metadata": {
    "tags": []
   },
   "outputs": [
    {
     "output_type": "stream",
     "name": "stdout",
     "text": [
      "Wall time: 0 ns\n"
     ]
    }
   ],
   "source": [
    "%time\n",
    "for artist in [artist_lyrics]:\n",
    "    artist_match = sp.search(artist['name'], type='artist')\n",
    "    artist_match = artist_match['artists']['items'][0]\n",
    "\n",
    "    keep = ['followers', 'popularity', 'genres'] #'id', 'name', \n",
    "    drop = ['external_urls', 'type', 'href', 'uri', 'images']\n",
    "\n",
    "    artist = {**artist, **keepDictKeys(artist_match, keep)}\n",
    "    for i, album in enumerate(artist['albums']):\n",
    "\n",
    "        album_match = sp.search(album['name'].split('-')[0], type='album')['albums']['items']\n",
    "        if album_match:\n",
    "\n",
    "            album_id = album_match[0]['id']\n",
    "            album_match = sp.album(album_id)\n",
    "\n",
    "            keep = ['genres', 'popularity', 'release_date'] # 'name', 'id', 'type', 'tracks'\n",
    "            artist['albums'][i] = {**album, **keepDictKeys(album_match, keep)}\n",
    "            \n",
    "            \n",
    "            for j, track in enumerate(album['tracks']):\n",
    "                \n",
    "                query = f\"artist:{artist['name']} track:{track['title']}\"\n",
    "                track_match = sp.search(query, type='track')['tracks']['items']\n",
    "            \n",
    "\n",
    "                if track_match:\n",
    "\n",
    "                    track_id = track_match[0]['id']\n",
    "                    track_match = sp.track(track_id)\n",
    "\n",
    "                    audio_features = sp.audio_features(track_id)[0]\n",
    "                    audio_features = audio_features if audio_features else {}\n",
    "                    drop = ['id', 'uri', 'track_href', 'analysis_url', 'duration_ms', 'time_signature', 'type']\n",
    "                    track['audio_features'] = dropDictKeys(audio_features, drop)\n",
    "\n",
    "                    keep =['popularity', 'duration_ms'] #'id', 'name'\n",
    "                    artist['albums'][i]['tracks'][j] = {**track, **keepDictKeys(track_match, keep)}"
   ]
  },
  {
   "cell_type": "code",
   "execution_count": 251,
   "metadata": {},
   "outputs": [
    {
     "output_type": "execute_result",
     "data": {
      "text/plain": [
       "{'danceability': 0.48,\n",
       " 'energy': 0.274,\n",
       " 'key': 0,\n",
       " 'loudness': -17.702,\n",
       " 'mode': 0,\n",
       " 'speechiness': 0.316,\n",
       " 'acousticness': 0.914,\n",
       " 'instrumentalness': 0,\n",
       " 'liveness': 0.383,\n",
       " 'valence': 0.547,\n",
       " 'tempo': 94.539}"
      ]
     },
     "metadata": {},
     "execution_count": 251
    }
   ],
   "source": [
    "artist['albums'][0]['tracks'][0]['audio_features']"
   ]
  },
  {
   "cell_type": "code",
   "execution_count": 252,
   "metadata": {},
   "outputs": [],
   "source": [
    "# sp.audio_analysis(track_id)['track'].keys()"
   ]
  },
  {
   "cell_type": "code",
   "execution_count": 253,
   "metadata": {},
   "outputs": [
    {
     "output_type": "execute_result",
     "data": {
      "text/plain": [
       "'My Name Is Jhené'"
      ]
     },
     "metadata": {},
     "execution_count": 253
    }
   ],
   "source": [
    "album['name']"
   ]
  },
  {
   "cell_type": "code",
   "execution_count": 254,
   "metadata": {},
   "outputs": [
    {
     "output_type": "stream",
     "name": "stdout",
     "text": [
      "Wall time: 0 ns\n"
     ]
    }
   ],
   "source": [
    "%time\n",
    "for artist in [artist_lyrics]:\n",
    "    artist_match = sp.search(artist['name'], type='artist')\n",
    "    artist_match = artist_match['artists']['items'][0]\n",
    "\n",
    "    keep = ['followers', 'popularity', 'genres'] #'id', 'name', \n",
    "    drop = ['external_urls', 'type', 'href', 'uri', 'images']\n",
    "\n",
    "    artist = {**artist, **keepDictKeys(artist_match, keep)}\n",
    "    for i, album in enumerate(artist['albums']):\n",
    "\n",
    "        album_match = sp.search(album['name'].split('-')[0], type='album')['albums']['items']\n",
    "        if album_match:\n",
    "\n",
    "            album_id = album_match[0]['id']\n",
    "            album_match = sp.album(album_id)\n",
    "\n",
    "            keep = ['genres', 'popularity', 'release_date'] # 'name', 'id', 'type', 'tracks'\n",
    "            artist['albums'][i] = {**album, **keepDictKeys(album_match, keep)}\n",
    "            \n",
    "            track_ids = []\n",
    "            for _j, track in enumerate(album['tracks']):\n",
    "                \n",
    "                query = f\"artist:{artist['name']} track:{track['title']}\"\n",
    "                track_match = sp.search(query, type='track')['tracks']['items']\n",
    "            \n",
    "                if track_match:\n",
    "                    track_id = track_match[0]['id']\n",
    "                else:\n",
    "                    track_id = 'None'\n",
    "                track_ids.append(track_id)\n",
    "\n",
    "            tracks = []\n",
    "            fives, remainder = len(track_ids) // 5, len(track_ids) % 5\n",
    "            m, n = 0, 5\n",
    "            for _i in range(fives + 1):\n",
    "                if track_ids[m:n]:\n",
    "                    tracks = [*tracks, *sp.tracks(track_ids[m:n])['tracks']]\n",
    "                    m += 5; n += 5\n",
    "            tracks = [track if track else {} for track in tracks]\n",
    "\n",
    "            audio_features = sp.audio_features(track_ids)\n",
    "            audio_features = [af if af else {} for af in audio_features]\n",
    "\n",
    "            for j, track in enumerate(album['tracks']):\n",
    "                \n",
    "                drop = ['id', 'uri', 'track_href', 'analysis_url', 'duration_ms', 'time_signature', 'type']\n",
    "                track['audio_features'] = dropDictKeys(audio_features[j], drop)\n",
    "\n",
    "                keep =['popularity', 'duration_ms'] #'id', 'name'\n",
    "                artist['albums'][i]['tracks'][j] = {**track, **keepDictKeys(tracks[j], keep)}"
   ]
  },
  {
   "cell_type": "code",
   "execution_count": 255,
   "metadata": {},
   "outputs": [
    {
     "output_type": "execute_result",
     "data": {
      "text/plain": [
       "{'danceability': 0.48,\n",
       " 'energy': 0.274,\n",
       " 'key': 0,\n",
       " 'loudness': -17.702,\n",
       " 'mode': 0,\n",
       " 'speechiness': 0.316,\n",
       " 'acousticness': 0.914,\n",
       " 'instrumentalness': 0,\n",
       " 'liveness': 0.383,\n",
       " 'valence': 0.547,\n",
       " 'tempo': 94.539}"
      ]
     },
     "metadata": {},
     "execution_count": 255
    }
   ],
   "source": [
    "artist['albums'][0]['tracks'][0]['audio_features']"
   ]
  },
  {
   "cell_type": "code",
   "execution_count": null,
   "metadata": {},
   "outputs": [],
   "source": []
  }
 ],
 "metadata": {
  "kernelspec": {
   "name": "python385jvsc74a57bd091dd8293210eb40f8b89a7cc5fc7c4dcab906e245a82b7328871ddda258c21b3",
   "display_name": "Python 3.8.5 64-bit (conda)"
  },
  "language_info": {
   "codemirror_mode": {
    "name": "ipython",
    "version": 3
   },
   "file_extension": ".py",
   "mimetype": "text/x-python",
   "name": "python",
   "nbconvert_exporter": "python",
   "pygments_lexer": "ipython3",
   "version": "3.8.5-final"
  },
  "toc": {
   "base_numbering": 1,
   "nav_menu": {},
   "number_sections": true,
   "sideBar": true,
   "skip_h1_title": false,
   "title_cell": "Table of Contents",
   "title_sidebar": "Contents",
   "toc_cell": false,
   "toc_position": {},
   "toc_section_display": true,
   "toc_window_display": false
  },
  "varInspector": {
   "cols": {
    "lenName": 16,
    "lenType": 16,
    "lenVar": 40
   },
   "kernels_config": {
    "python": {
     "delete_cmd_postfix": "",
     "delete_cmd_prefix": "del ",
     "library": "var_list.py",
     "varRefreshCmd": "print(var_dic_list())"
    },
    "r": {
     "delete_cmd_postfix": ") ",
     "delete_cmd_prefix": "rm(",
     "library": "var_list.r",
     "varRefreshCmd": "cat(var_dic_list()) "
    }
   },
   "types_to_exclude": [
    "module",
    "function",
    "builtin_function_or_method",
    "instance",
    "_Feature"
   ],
   "window_display": false
  }
 },
 "nbformat": 4,
 "nbformat_minor": 4
}